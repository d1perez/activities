{
 "cells": [
  {
   "cell_type": "code",
   "execution_count": 14,
   "metadata": {},
   "outputs": [
    {
     "name": "stdout",
     "output_type": "stream",
     "text": [
      "<class 'pandas.core.frame.DataFrame'>\n",
      "RangeIndex: 52 entries, 0 to 51\n",
      "Data columns (total 12 columns):\n",
      " #   Column                 Non-Null Count  Dtype  \n",
      "---  ------                 --------------  -----  \n",
      " 0   State                  52 non-null     object \n",
      " 1   EV Registration Count  52 non-null     int64  \n",
      " 2   TotalRegCount          52 non-null     float64\n",
      " 3   StatePopulations       52 non-null     int64  \n",
      " 4   EVRegPer1000residents  52 non-null     float64\n",
      " 5   EVRegPercTotalReg      52 non-null     float64\n",
      " 6   EVper1000TotalReg      52 non-null     float64\n",
      " 7   Unnamed: 7             0 non-null      float64\n",
      " 8   Unnamed: 8             0 non-null      float64\n",
      " 9   Unnamed: 9             0 non-null      float64\n",
      " 10  Unnamed: 10            0 non-null      float64\n",
      " 11  Unnamed: 11            8 non-null      object \n",
      "dtypes: float64(8), int64(2), object(2)\n",
      "memory usage: 5.0+ KB\n"
     ]
    }
   ],
   "source": [
    "import pandas as pd\n",
    "\n",
    "df = pd.read_excel(\"C:/code/SavvyCoders/activities/ClassProject/EVregistrations.xlsx\")\n",
    "df.info()\n"
   ]
  }
 ],
 "metadata": {
  "kernelspec": {
   "display_name": "Python 3",
   "language": "python",
   "name": "python3"
  },
  "language_info": {
   "codemirror_mode": {
    "name": "ipython",
    "version": 3
   },
   "file_extension": ".py",
   "mimetype": "text/x-python",
   "name": "python",
   "nbconvert_exporter": "python",
   "pygments_lexer": "ipython3",
   "version": "3.11.4"
  },
  "orig_nbformat": 4
 },
 "nbformat": 4,
 "nbformat_minor": 2
}
