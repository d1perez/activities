{
 "cells": [
  {
   "cell_type": "code",
   "execution_count": 41,
   "metadata": {},
   "outputs": [],
   "source": [
    "import requests\n",
    "from dotenv import load_dotenv\n",
    "import os"
   ]
  },
  {
   "cell_type": "code",
   "execution_count": 42,
   "metadata": {},
   "outputs": [],
   "source": [
    "#Load environment variables\n",
    "load_dotenv()\n",
    "\n",
    "#Get API key\n",
    "api_key = os.getenv('API_KEY')"
   ]
  },
  {
   "cell_type": "code",
   "execution_count": 43,
   "metadata": {},
   "outputs": [
    {
     "name": "stdout",
     "output_type": "stream",
     "text": [
      "{\"coord\":{\"lon\":-84.388,\"lat\":33.749},\"weather\":[{\"id\":801,\"main\":\"Clouds\",\"description\":\"few clouds\",\"icon\":\"02n\"}],\"base\":\"stations\",\"main\":{\"temp\":64.9,\"feels_like\":64.67,\"temp_min\":60.08,\"temp_max\":67.73,\"pressure\":1017,\"humidity\":76},\"visibility\":10000,\"wind\":{\"speed\":0,\"deg\":0},\"clouds\":{\"all\":20},\"dt\":1695089736,\"sys\":{\"type\":2,\"id\":2006620,\"country\":\"US\",\"sunrise\":1695036167,\"sunset\":1695080456},\"timezone\":-14400,\"id\":4180439,\"name\":\"Atlanta\",\"cod\":200}\n"
     ]
    }
   ],
   "source": [
    "city = 'Atlanta'\n",
    "\n",
    "url = f'https://api.openweathermap.org/data/2.5/weather?q={city}&appid={api_key}&units=imperial'\n",
    "\n",
    "\n",
    "r =requests.get(url=url)\n",
    "print(r.text)"
   ]
  },
  {
   "cell_type": "code",
   "execution_count": 44,
   "metadata": {},
   "outputs": [
    {
     "name": "stdout",
     "output_type": "stream",
     "text": [
      "Success!\n"
     ]
    }
   ],
   "source": [
    "try:\n",
    "    response = requests.get(url)\n",
    "\n",
    "    #Get response code\n",
    "    if response.status_code == 200:\n",
    "        print('Success!')\n",
    "        data=response.json()\n",
    "    else:\n",
    "        print('Error')\n",
    "except: \n",
    "    print('Connection error!')\n",
    "\n"
   ]
  },
  {
   "cell_type": "code",
   "execution_count": 45,
   "metadata": {},
   "outputs": [
    {
     "name": "stdout",
     "output_type": "stream",
     "text": [
      "{'coord': {'lon': -84.388, 'lat': 33.749}, 'weather': [{'id': 801, 'main': 'Clouds', 'description': 'few clouds', 'icon': '02n'}], 'base': 'stations', 'main': {'temp': 64.9, 'feels_like': 64.67, 'temp_min': 60.08, 'temp_max': 67.73, 'pressure': 1017, 'humidity': 76}, 'visibility': 10000, 'wind': {'speed': 0, 'deg': 0}, 'clouds': {'all': 20}, 'dt': 1695089736, 'sys': {'type': 2, 'id': 2006620, 'country': 'US', 'sunrise': 1695036167, 'sunset': 1695080456}, 'timezone': -14400, 'id': 4180439, 'name': 'Atlanta', 'cod': 200}\n",
      "64.9\n",
      "76\n",
      "few clouds\n"
     ]
    }
   ],
   "source": [
    "print(data)\n",
    "\n",
    "print(data['main']['temp'])\n",
    "print(data['main']['humidity'])\n",
    "print(data['weather'][0]['description'])"
   ]
  },
  {
   "cell_type": "code",
   "execution_count": 46,
   "metadata": {},
   "outputs": [
    {
     "name": "stdout",
     "output_type": "stream",
     "text": [
      "The temperature in Atlanta is 64.9 degrees Farenheit, the humidity is 76%, and the weather is few clouds.\n"
     ]
    }
   ],
   "source": [
    "AtlTemp = data['main']['temp']\n",
    "\n",
    "AtlHumidity = data['main']['humidity']\n",
    "\n",
    "AtlDescription = data['weather'][0]['description']\n",
    "\n",
    "print(f'The temperature in {city} is {AtlTemp} degrees Farenheit, the humidity is {AtlHumidity}%, and the weather is {AtlDescription}.')"
   ]
  },
  {
   "cell_type": "code",
   "execution_count": 48,
   "metadata": {},
   "outputs": [
    {
     "name": "stdout",
     "output_type": "stream",
     "text": [
      "            Atlanta  New York  Los Angeles  Chicago  Houston\n",
      "temp          64.90     61.83        68.85    59.95    82.56\n",
      "feels_like    64.67     61.90        68.81    59.32    83.07\n",
      "temp_min      60.08     57.76        63.48    54.99    77.11\n",
      "temp_max      67.73     64.35        74.21    63.18    85.08\n",
      "pressure    1017.00   1009.00      1016.00  1017.00  1013.00\n",
      "humidity      76.00     89.00        72.00    78.00    48.00\n"
     ]
    }
   ],
   "source": [
    "#More data!\n",
    "cities = ['Atlanta', 'New York', 'Los Angeles', 'Chicago', 'Houston']\n",
    "\n",
    "try:\n",
    "    response = requests.get(url=url)\n",
    "\n",
    "    if response.status_code == 200:\n",
    "        data_dict = {}\n",
    "        for city in cities:\n",
    "            url =f'https://api.openweathermap.org/data/2.5/weather?q={city}&appid={api_key}&units=imperial'\n",
    "            response = requests.get(url=url)\n",
    "            data = json.loads(response.text)\n",
    "            data_dict[city] = data['main']\n",
    "        \n",
    "        df = pd.DataFrame(data_dict)\n",
    "    else:\n",
    "        print(f'Request failed with status code {response.status_code}')\n",
    "\n",
    "except requests.exceptions.RequestException as e:  \n",
    "    print('connection error!')\n",
    "\n",
    "print(df)\n",
    "    #loop thru cities\n",
    "    #make request for each city\n"
   ]
  }
 ],
 "metadata": {
  "kernelspec": {
   "display_name": "Python 3",
   "language": "python",
   "name": "python3"
  },
  "language_info": {
   "codemirror_mode": {
    "name": "ipython",
    "version": 3
   },
   "file_extension": ".py",
   "mimetype": "text/x-python",
   "name": "python",
   "nbconvert_exporter": "python",
   "pygments_lexer": "ipython3",
   "version": "3.11.4"
  },
  "orig_nbformat": 4
 },
 "nbformat": 4,
 "nbformat_minor": 2
}
